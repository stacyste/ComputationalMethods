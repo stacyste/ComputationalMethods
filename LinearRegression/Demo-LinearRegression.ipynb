{
 "cells": [
  {
   "cell_type": "markdown",
   "metadata": {},
   "source": [
    "# Implementation of Linear Regression"
   ]
  },
  {
   "cell_type": "markdown",
   "metadata": {},
   "source": [
    "## Introduction\n",
    "In linear regression, we have an $ n \\times p$ matrix $\\mathbf{X}=(x_{ij})$, the predictors or design matrix, and an $n\\times 1$ vector $\\mathbf{Y} = (y_i)$, the outcomes. We model $y_i$ as:\n",
    "$$ y_i = \\sum_{j=1}^p x_{ij}\\beta_j+\\epsilon_{i}$$\n",
    "for $i = 1, 2, ..., n$ and $\\epsilon_i \\sim N(0,\\sigma^2)$. If $x_{i1}$ is a constant for all $i$ then $\\beta_1$ is the intercept term.\n",
    "\n",
    "Linear regression performs a least squares estimate of these coefficients in order to explain the relationship between the predictors and the outcome as well as predict the outcome in new scenarios.\n",
    "\n",
    "The linear regression model in matrix form can be rewritten as $$\\mathbf{Y} = \\mathbf{X}^T \\beta + \\epsilon$$\n",
    "The least squares estimate of $\\beta$ is $$\\widehat{\\beta} = \\arg \\min_\\beta || \\mathbf{Y} - \\mathbf{X}||_{l_2}^2 = (\\mathbf{X}^T\\mathbf{X})^{-1}\\mathbf{X}^T\\mathbf{Y}$$\n",
    "\n",
    "For the matrix solutions it is useful to thing about a matrix $\\mathbf{Z} = [\\mathbf{X}\\mathbf{Y}]$, and let \n",
    "$$ A = \\mathbf{Z}^T\\mathbf{Z} =  \n",
    "\\begin{bmatrix}\n",
    "    \\mathbf{X}^T\\mathbf{X} & \\mathbf{X}^T\\mathbf{Y} \\\\\n",
    "    \\mathbf{Y}^T\\mathbf{X}& \\mathbf{Y}^T\\mathbf{Y} \\\\\n",
    "\\end{bmatrix}$$\n",
    "\n",
    "## In this Demo\n",
    "We implement Linear Regression using two different methods: Gauss Jordan Elimination and Sweep Operators. Additionally, we compare the method to the estimates from sklearn to validate our results"
   ]
  },
  {
   "cell_type": "code",
   "execution_count": 1,
   "metadata": {
    "ExecuteTime": {
     "end_time": "2019-11-24T01:32:36.147537Z",
     "start_time": "2019-11-24T01:32:35.723039Z"
    }
   },
   "outputs": [],
   "source": [
    "import numpy as np\n",
    "import pandas as pd\n",
    "import matplotlib.pyplot as plt\n",
    "from sklearn import datasets, linear_model\n",
    "\n",
    "from LR_GaussJordan import *\n",
    "from Sweep_LM import *"
   ]
  },
  {
   "cell_type": "markdown",
   "metadata": {},
   "source": [
    "## Demo with the Diabetes Data Set"
   ]
  },
  {
   "cell_type": "markdown",
   "metadata": {},
   "source": [
    "We look at the diabetes data set with a quantitative diabetes outcome variable and 12 predictors (S1-S6 are six blood serums: map tc ldl hdl tch ltg glu y)\n",
    "- Age\n",
    "- Sex\n",
    "- Body mass index\n",
    "- Average blood pressure\n",
    "- S1, S2, S3, S4, S5, S6"
   ]
  },
  {
   "cell_type": "code",
   "execution_count": 2,
   "metadata": {
    "ExecuteTime": {
     "end_time": "2019-11-24T01:32:36.180970Z",
     "start_time": "2019-11-24T01:32:36.148906Z"
    }
   },
   "outputs": [],
   "source": [
    "diabetes = datasets.load_diabetes()\n",
    "X = diabetes.data\n",
    "y = diabetes.target"
   ]
  },
  {
   "cell_type": "code",
   "execution_count": 3,
   "metadata": {
    "ExecuteTime": {
     "end_time": "2019-11-24T01:32:36.285365Z",
     "start_time": "2019-11-24T01:32:36.182345Z"
    }
   },
   "outputs": [
    {
     "data": {
      "image/png": "[encoded data removed]",
      "text/plain": [
       "<Figure size 360x288 with 1 Axes>"
      ]
     },
     "metadata": {
      "needs_background": "light"
     },
     "output_type": "display_data"
    }
   ],
   "source": [
    "plt.figure(figsize=(5, 4))\n",
    "plt.scatter(diabetes.data[:, 2], diabetes.target)\n",
    "plt.xlabel(diabetes.feature_names[2])\n",
    "plt.ylabel(\"Diabetes Outcome\")\n",
    "\n",
    "plt.tight_layout()\n",
    "plt.show()"
   ]
  },
  {
   "cell_type": "markdown",
   "metadata": {
    "ExecuteTime": {
     "end_time": "2019-11-23T21:48:16.362037Z",
     "start_time": "2019-11-23T21:48:16.359468Z"
    }
   },
   "source": [
    "## Linear Regression using Packages in Python"
   ]
  },
  {
   "cell_type": "code",
   "execution_count": 4,
   "metadata": {
    "ExecuteTime": {
     "end_time": "2019-11-24T01:32:36.291401Z",
     "start_time": "2019-11-24T01:32:36.286812Z"
    }
   },
   "outputs": [
    {
     "name": "stdout",
     "output_type": "stream",
     "text": [
      "Intercept: \n",
      " 152.1334841628965\n",
      "Coefficients: \n",
      " [ -10.01219782 -239.81908937  519.83978679  324.39042769 -792.18416163\n",
      "  476.74583782  101.04457032  177.06417623  751.27932109   67.62538639]\n"
     ]
    }
   ],
   "source": [
    "# Create a linear regression object\n",
    "regr = linear_model.LinearRegression()\n",
    "\n",
    "# Fit the linear regression to our data\n",
    "regr.fit(X, y)\n",
    "\n",
    "# Print model coefficients and intercept\n",
    "print(\"Intercept: \\n\", regr.intercept_)\n",
    "print(\"Coefficients: \\n\", regr.coef_)"
   ]
  },
  {
   "cell_type": "markdown",
   "metadata": {
    "ExecuteTime": {
     "end_time": "2019-11-23T21:48:16.397978Z",
     "start_time": "2019-11-23T21:48:16.393920Z"
    }
   },
   "source": [
    "## Linear Regression Using Gaussian Elimination\n",
    "For a system of linear equations $Ax=b$ we can solve $x=A^{-1}b$ using Gauss Jordan Elimination. We can apply Gauss Jordan sequentially for rows $1:m$\n",
    "$$FJ[1:m]\\begin{bmatrix}\n",
    "    \\mathbf{A}_{11} & \\mathbf{A}_{12}&|& I_1 & 0\\\\\n",
    "    \\mathbf{A}_{21}& \\mathbf{A}_{22} &|& 0 & I_2\\\\\n",
    "\\end{bmatrix} = \n",
    "\\begin{bmatrix}\n",
    "    I_1 & \\mathbf{A}_{11}^{-1}\\mathbf{A}_{12}&|&  \\mathbf{A}_{11}^{-1} & 0\\\\\n",
    "    0& \\mathbf{A}_{22}-\\mathbf{A}_{21}\\mathbf{A}_{11}^{-1}\\mathbf{A}_{12} &|& -\\mathbf{A}_{21}\\mathbf{A}_{11}^{-1} & I_2\\\\\n",
    "\\end{bmatrix}$$\n",
    "\n",
    "\n"
   ]
  },
  {
   "cell_type": "code",
   "execution_count": 5,
   "metadata": {
    "ExecuteTime": {
     "end_time": "2019-11-24T01:32:36.298822Z",
     "start_time": "2019-11-24T01:32:36.292780Z"
    },
    "scrolled": false
   },
   "outputs": [
    {
     "data": {
      "text/plain": [
       "array([ 152.13348416,  -10.01219782, -239.81908937,  519.83978679,\n",
       "        324.39042769, -792.18416163,  476.74583782,  101.04457032,\n",
       "        177.06417623,  751.27932109,   67.62538639])"
      ]
     },
     "execution_count": 5,
     "metadata": {},
     "output_type": "execute_result"
    }
   ],
   "source": [
    "myLinearRegressionGJ(X, y)"
   ]
  },
  {
   "cell_type": "markdown",
   "metadata": {},
   "source": [
    "## Linear Regression with the Sweep Operator\n",
    "The sweep operator is another convenient tool for linear regression where \n",
    "\n",
    "$$SW[1:m]\\begin{bmatrix}\n",
    "    -\\mathbf{A}_{11}^{-1} & \\mathbf{A}_{11}^{-1}\\mathbf{A}_{12}\\\\\n",
    "    \\mathbf{A}_{21}\\mathbf{A}_{11}^{-1}& \\mathbf{A}_{22}-\\mathbf{A}_{21}\\mathbf{A}_{11}^{-1}\\mathbf{A}_{12}\\\\\n",
    "\\end{bmatrix}$$\n",
    "\n",
    "and $\\mathbf{A}_{11}^{-1}\\mathbf{A}_{12}$ yields the vector $\\widehat{\\beta}$"
   ]
  },
  {
   "cell_type": "code",
   "execution_count": 6,
   "metadata": {
    "ExecuteTime": {
     "end_time": "2019-11-24T01:32:36.304295Z",
     "start_time": "2019-11-24T01:32:36.300254Z"
    }
   },
   "outputs": [
    {
     "data": {
      "text/plain": [
       "array([ 152.13348416,  -10.01219782, -239.81908937,  519.83978679,\n",
       "        324.39042769, -792.18416163,  476.74583782,  101.04457032,\n",
       "        177.06417623,  751.27932109,   67.62538639])"
      ]
     },
     "execution_count": 6,
     "metadata": {},
     "output_type": "execute_result"
    }
   ],
   "source": [
    "myLinearRegressionSweep(X, y)"
   ]
  }
 ],
 "metadata": {
  "kernelspec": {
   "display_name": "Python 3",
   "language": "python",
   "name": "python3"
  },
  "language_info": {
   "codemirror_mode": {
    "name": "ipython",
    "version": 3
   },
   "file_extension": ".py",
   "mimetype": "text/x-python",
   "name": "python",
   "nbconvert_exporter": "python",
   "pygments_lexer": "ipython3",
   "version": "3.6.8"
  },
  "toc": {
   "base_numbering": 1,
   "nav_menu": {},
   "number_sections": true,
   "sideBar": true,
   "skip_h1_title": false,
   "title_cell": "Table of Contents",
   "title_sidebar": "Contents",
   "toc_cell": false,
   "toc_position": {},
   "toc_section_display": true,
   "toc_window_display": false
  }
 },
 "nbformat": 4,
 "nbformat_minor": 2
}
