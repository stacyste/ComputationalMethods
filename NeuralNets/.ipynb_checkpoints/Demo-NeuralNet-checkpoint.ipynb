{
 "cells": [
  {
   "cell_type": "markdown",
   "metadata": {},
   "source": [
    "# Neural Network Implementation\n",
    "For digits data. Data is the same as for the adaboost and SVM implementation"
   ]
  },
  {
   "cell_type": "code",
   "execution_count": 3,
   "metadata": {
    "ExecuteTime": {
     "end_time": "2019-11-24T02:52:29.125216Z",
     "start_time": "2019-11-24T02:52:29.118590Z"
    }
   },
   "outputs": [],
   "source": [
    "import numpy as np\n",
    "import csv\n",
    "import random\n",
    "import math\n",
    "import matplotlib.pyplot as plt"
   ]
  },
  {
   "cell_type": "code",
   "execution_count": 4,
   "metadata": {
    "ExecuteTime": {
     "end_time": "2019-11-24T02:52:30.038795Z",
     "start_time": "2019-11-24T02:52:30.028555Z"
    }
   },
   "outputs": [],
   "source": [
    "def prepare_data(valid_digits=np.array((6,5))):\n",
    "    if len(valid_digits)!=2:\n",
    "        raise Exception(\"Error: you must specify exactly 2 digits for classification!\")\n",
    "\n",
    "    csvfile=open('digits.csv','r')\n",
    "    reader=csv.reader(csvfile)\n",
    "    data=[]\n",
    "    for line in reader:\n",
    "        data.append(line)\n",
    "\n",
    "    csvfile.close()\n",
    "    digits=np.asarray(data,dtype='float')\n",
    "\n",
    "    X = digits[(digits[:,64]==valid_digits[0]) | (digits[:,64]==valid_digits[1]),0:64]\n",
    "    Y = digits[(digits[:, 64] == valid_digits[0]) | (digits[:, 64] == valid_digits[1]), 64:65]\n",
    "\n",
    "    X=np.asarray(map(lambda k: X[k,:]/X[k,:].max(), range(0,len(X))))\n",
    "\n",
    "    Y[Y==valid_digits[0]]=0\n",
    "    Y[Y==valid_digits[1]]=1\n",
    "\n",
    "    training_set=random.sample(range(360),270)\n",
    "\n",
    "    testing_set=list(set(range(360)).difference(set(training_set)))\n",
    "\n",
    "    X_train=X[training_set,:]\n",
    "    Y_train=Y[training_set,]\n",
    "\n",
    "    X_test=X[testing_set,:]\n",
    "    Y_test=Y[testing_set,]\n",
    "\n",
    "    return X_train,Y_train,X_test,Y_test\n",
    "\n",
    "\n",
    "def accuracy(p,y):\n",
    "    acc=np.mean((p>0.5)==(y==1))\n",
    "    return acc"
   ]
  },
  {
   "cell_type": "code",
   "execution_count": null,
   "metadata": {
    "ExecuteTime": {
     "end_time": "2019-11-24T02:52:31.952912Z",
     "start_time": "2019-11-24T02:52:31.927547Z"
    },
    "scrolled": true
   },
   "outputs": [],
   "source": [
    "x_train, y_train, x_test, y_train = prepare_data()"
   ]
  },
  {
   "cell_type": "code",
   "execution_count": 2,
   "metadata": {
    "scrolled": true
   },
   "outputs": [],
   "source": [
    "def my_NN(X_train, Y_train, X_test, Y_test, num_hidden=20, num_iterations=1000, learning_rate=1e-1):\n",
    "\n",
    "    n=X_train.shape[0]\n",
    "    p=X_train.shape[1]+1\n",
    "    ntest=X_test.shape[0]\n",
    "    X_train1= np.concatenate((np.repeat(1,n,axis=0).reshape((n,1)),X_train),axis=1)\n",
    "    X_test1 = np.concatenate((np.repeat(1, ntest, axis=0).reshape((ntest, 1)), X_test), axis=1)\n",
    "    \n",
    "    alpha=np.random.standard_normal((p,num_hidden))\n",
    "    beta=np.random.standard_normal((num_hidden+1,1))\n",
    "\n",
    "    acc_train=np.repeat(0.,num_iterations)\n",
    "    acc_test=np.repeat(0.,num_iterations)\n",
    "\n",
    "    \n",
    "    for it in range(num_iterations):\n",
    "        Z = 1 / (1 + np.exp(-np.dot(X_train1, alpha)))\n",
    "        Z1 = np.concatenate((np.repeat(1, n, axis=0).reshape(n, 1), Z), axis=1)\n",
    "    \n",
    "        pr = 1 / (1 + np.exp(-np.dot(Z1, beta))) #nX1\n",
    "        \n",
    "        dbeta = np.dot(np.repeat(1,n,axis=0).reshape(1,n), (np.repeat(Y_train-pr, num_hidden+1, axis = 1).reshape(n, num_hidden+1)*Z1)/n)  #1X numhidden + 1\n",
    "        beta = beta + learning_rate * dbeta.T\n",
    "        \n",
    "        for k in range(num_hidden):\n",
    "            da = (Y_train - pr)*beta[k+1]*Z[:, k].reshape(n, 1)*(1-Z[:, k].reshape(n,1))\n",
    "            dalpha = np.dot(np.repeat(1,n,axis=0).reshape(1,n), (np.repeat(da, p, axis=1)*X_train1)/n)\n",
    "            alpha[:, [k]] = alpha[:, [k]] + learning_rate * dalpha.T\n",
    "            \n",
    "        acc_train[it] = accuracy(pr, Y_train)\n",
    "        Ztest = 1/(1 + np.exp(-np.dot(X_test1, alpha)))\n",
    "        Ztest1 = np.concatenate((np.repeat(1,ntest,axis=0).reshape((ntest,1)),Ztest),axis=1)\n",
    "        prtest = 1/(1 + np.exp(-np.dot(Ztest1, beta)))\n",
    "        acc_test[it] = accuracy(prtest, Y_test)\n",
    "\n",
    "\n",
    "\n",
    "\n",
    "    ## Function should output 4 things:\n",
    "    ## 1. The learned parameters of the first layer of the neural network, alpha\n",
    "    ## 2. The learned parameters of the second layer of the neural network, beta\n",
    "    ## 3. The accuracy over the training set, acc_train (a \"num_iterations\" dimensional vector).\n",
    "    ## 4. The accuracy over the testing set, acc_test (a \"num_iterations\" dimensional vector).\n",
    "    return alpha,beta,acc_train,acc_test\n",
    "\n",
    "\n",
    "############################################################################\n",
    "## Test your functions and visualize the results here##\n",
    "############################################################################\n",
    "X_train, Y_train, X_test, Y_test = prepare_data()\n",
    "alpha,beta,acc_train,acc_test=my_NN(X_train,Y_train,X_test,Y_test,num_hidden=50,num_iterations=1000,learning_rate=1e-2)\n"
   ]
  },
  {
   "cell_type": "code",
   "execution_count": 26,
   "metadata": {},
   "outputs": [],
   "source": [
    "import matplotlib as mpl\n",
    "import matplotlib.pyplot as plt\n",
    "import matplotlib.patches as mpatches\n",
    "plt.style.use('ggplot')"
   ]
  },
  {
   "cell_type": "code",
   "execution_count": 27,
   "metadata": {},
   "outputs": [
    {
     "data": {
      "image/png": "[encoded data removed]",
      "text/plain": [
       "<matplotlib.figure.Figure at 0x97b4b70>"
      ]
     },
     "metadata": {},
     "output_type": "display_data"
    }
   ],
   "source": [
    "x = range(1000)\n",
    "fig = plt.figure()\n",
    "ax = fig.add_subplot(111)\n",
    "ax.set_ylim(.5,1.01)\n",
    "ax.plot(x, acc_train, color='indianred', linewidth=3)\n",
    "ax.plot(x, acc_test, color='slateblue', linewidth=3)\n",
    "ax.text(1,1.03, 'Training and Testing Accuracy Neural Networks')\n",
    "\n",
    "#Legend patches\n",
    "trainpatch = mpatches.Patch(color='indianred', label='Training Accuracy')\n",
    "testpatch = mpatches.Patch(color='slateblue', label='Testing Accuracy')\n",
    "plt.legend(handles=[trainpatch, testpatch])\n",
    "plt.savefig('nn_accuracy.png')\n",
    "plt.show()"
   ]
  },
  {
   "cell_type": "code",
   "execution_count": 31,
   "metadata": {},
   "outputs": [
    {
     "data": {
      "image/png": "[encoded data removed]",
      "text/plain": [
       "<matplotlib.figure.Figure at 0x9c70470>"
      ]
     },
     "metadata": {},
     "output_type": "display_data"
    }
   ],
   "source": [
    "mean_xtrain_nn = np.mean(X_train*np.repeat(np.dot(alpha[1:, :],beta[1:,:]), 270, axis=0).reshape(64, 270).T, axis=0).reshape(8, 8)\n",
    "plt.imshow(mean_xtrain_nn, cmap=mpl.cm.get_cmap(\"inferno\"))\n",
    "plt.savefig('mean_nn_train.png')\n",
    "plt.show()"
   ]
  },
  {
   "cell_type": "code",
   "execution_count": 22,
   "metadata": {},
   "outputs": [
    {
     "data": {
      "text/plain": [
       "(64L, 1L)"
      ]
     },
     "execution_count": 22,
     "metadata": {},
     "output_type": "execute_result"
    }
   ],
   "source": [
    "(np.dot(alpha[1:, :],beta[1:,:])).shape"
   ]
  }
 ],
 "metadata": {
  "kernelspec": {
   "display_name": "Python 3",
   "language": "python",
   "name": "python3"
  },
  "language_info": {
   "codemirror_mode": {
    "name": "ipython",
    "version": 3
   },
   "file_extension": ".py",
   "mimetype": "text/x-python",
   "name": "python",
   "nbconvert_exporter": "python",
   "pygments_lexer": "ipython3",
   "version": "3.6.8"
  },
  "toc": {
   "base_numbering": 1,
   "nav_menu": {},
   "number_sections": true,
   "sideBar": true,
   "skip_h1_title": false,
   "title_cell": "Table of Contents",
   "title_sidebar": "Contents",
   "toc_cell": false,
   "toc_position": {},
   "toc_section_display": true,
   "toc_window_display": false
  }
 },
 "nbformat": 4,
 "nbformat_minor": 2
}
