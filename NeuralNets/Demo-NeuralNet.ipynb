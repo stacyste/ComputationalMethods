{
 "cells": [
  {
   "cell_type": "markdown",
   "metadata": {},
   "source": [
    "# Neural Network Implementation\n",
    "For a small sample from the digits data (contains 5s and 6s only). Data is the same as for the adaboost and SVM implementation. Here we implement a two layer neural net multi-layer perceptron. \n",
    "\n",
    "## Introduction \n",
    "A perceptron seeks to separate the positive examples and negative examples by projecting them onto $\\beta$, or\n",
    "in other words, separating them using a hyperplane. If the data are not linearly separable, a perceptron\n",
    "cannot work. We may need to transform the original variables into some features so that they can be linearly\n",
    "separated. One way to solve this problem is to generalize the perceptron into multi-layer perceptrons. This structure is also called feedforward neural network. The neural network is logistic regression on top of logistic regressions, $y_i$ follows a logistic regression on $h_i = (h_{ik}, k=1,...,d)^T$ and each $h_{ik}$ follows a logistic regression on $X_i = (x_{ij}, j = 1,...,p)^T$\n",
    "\n",
    "$$y_i \\sim Bernoulli(p_i) $$\n",
    "$$p_i = \\sigma(h_i^T \\beta) = \\sum_{k=1}^d \\beta_k h_{ik} $$\n",
    "$$z_{ik} = \\sigma(X_i^T \\alpha_k) = \\sum_{j=1}^p \\alpha_{kj} x_{ij} $$"
   ]
  },
  {
   "cell_type": "code",
   "execution_count": 1,
   "metadata": {
    "ExecuteTime": {
     "end_time": "2019-11-24T05:00:23.347974Z",
     "start_time": "2019-11-24T05:00:23.201755Z"
    }
   },
   "outputs": [],
   "source": [
    "import numpy as np\n",
    "import csv\n",
    "import random\n",
    "import math\n",
    "import matplotlib.pyplot as plt"
   ]
  },
  {
   "cell_type": "code",
   "execution_count": 2,
   "metadata": {
    "ExecuteTime": {
     "end_time": "2019-11-24T05:00:23.351234Z",
     "start_time": "2019-11-24T05:00:23.349104Z"
    }
   },
   "outputs": [],
   "source": [
    "import matplotlib as mpl\n",
    "import matplotlib.pyplot as plt\n",
    "import matplotlib.patches as mpatches\n",
    "plt.style.use('ggplot')"
   ]
  },
  {
   "cell_type": "code",
   "execution_count": 3,
   "metadata": {
    "ExecuteTime": {
     "end_time": "2019-11-24T05:00:23.357533Z",
     "start_time": "2019-11-24T05:00:23.352648Z"
    }
   },
   "outputs": [],
   "source": [
    "def prepare_data(valid_digits=np.array((6,5))):\n",
    "    if len(valid_digits)!=2:\n",
    "        raise Exception(\"Error: you must specify exactly 2 digits for classification!\")\n",
    "\n",
    "    csvfile=open('digits.csv','r')\n",
    "    reader=csv.reader(csvfile)\n",
    "    data=[]\n",
    "    for line in reader:\n",
    "        data.append(line)\n",
    "\n",
    "    csvfile.close()\n",
    "    digits=np.asarray(data,dtype='float')\n",
    "\n",
    "    X = digits[(digits[:,64]==valid_digits[0]) | (digits[:,64]==valid_digits[1]),0:64]\n",
    "    Y = digits[(digits[:, 64] == valid_digits[0]) | (digits[:, 64] == valid_digits[1]), 64:65]\n",
    "\n",
    "    X_norm = X/np.max(X, axis=1)[:,None]\n",
    "    \n",
    "    Y[Y==valid_digits[0]]=0\n",
    "    Y[Y==valid_digits[1]]=1\n",
    "\n",
    "    training_set=random.sample(range(360),270)\n",
    "\n",
    "    testing_set=list(set(range(360)).difference(set(training_set)))\n",
    "\n",
    "    X_train=X_norm[training_set,:]\n",
    "    Y_train=Y[training_set,]\n",
    "\n",
    "    X_test=X_norm[testing_set,:]\n",
    "    Y_test=Y[testing_set,]\n",
    "\n",
    "    return X_train,Y_train,X_test,Y_test\n",
    "\n",
    "\n",
    "def accuracy(p,y):\n",
    "    acc=np.mean((p>0.5)==(y==1))\n",
    "    return acc"
   ]
  },
  {
   "cell_type": "code",
   "execution_count": 4,
   "metadata": {
    "ExecuteTime": {
     "end_time": "2019-11-24T05:00:23.365211Z",
     "start_time": "2019-11-24T05:00:23.358948Z"
    },
    "scrolled": true
   },
   "outputs": [],
   "source": [
    "def my_NN(X_train, Y_train, X_test, Y_test, num_hidden=20, num_iterations=1000, learning_rate=1e-1):\n",
    "\n",
    "    n=X_train.shape[0]\n",
    "    p=X_train.shape[1]+1\n",
    "    ntest=X_test.shape[0]\n",
    "    X_train1= np.concatenate((np.repeat(1,n,axis=0).reshape((n,1)),X_train),axis=1)\n",
    "    X_test1 = np.concatenate((np.repeat(1, ntest, axis=0).reshape((ntest, 1)), X_test), axis=1)\n",
    "    \n",
    "    alpha=np.random.standard_normal((p,num_hidden))\n",
    "    beta=np.random.standard_normal((num_hidden+1,1))\n",
    "\n",
    "    acc_train=np.repeat(0.,num_iterations)\n",
    "    acc_test=np.repeat(0.,num_iterations)\n",
    "\n",
    "    \n",
    "    for it in range(num_iterations):\n",
    "        Z = 1 / (1 + np.exp(-np.dot(X_train1, alpha)))\n",
    "        Z1 = np.concatenate((np.repeat(1, n, axis=0).reshape(n, 1), Z), axis=1)\n",
    "    \n",
    "        pr = 1 / (1 + np.exp(-np.dot(Z1, beta))) #nX1\n",
    "        \n",
    "        dbeta = np.dot(np.repeat(1,n,axis=0).reshape(1,n), (np.repeat(Y_train-pr, num_hidden+1, axis = 1).reshape(n, num_hidden+1)*Z1)/n)  #1X numhidden + 1\n",
    "        beta = beta + learning_rate * dbeta.T\n",
    "        \n",
    "        for k in range(num_hidden):\n",
    "            da = (Y_train - pr)*beta[k+1]*Z[:, k].reshape(n, 1)*(1-Z[:, k].reshape(n,1))\n",
    "            dalpha = np.dot(np.repeat(1,n,axis=0).reshape(1,n), (np.repeat(da, p, axis=1)*X_train1)/n)\n",
    "            alpha[:, [k]] = alpha[:, [k]] + learning_rate * dalpha.T\n",
    "            \n",
    "        acc_train[it] = accuracy(pr, Y_train)\n",
    "        Ztest = 1/(1 + np.exp(-np.dot(X_test1, alpha)))\n",
    "        Ztest1 = np.concatenate((np.repeat(1,ntest,axis=0).reshape((ntest,1)),Ztest),axis=1)\n",
    "        prtest = 1/(1 + np.exp(-np.dot(Ztest1, beta)))\n",
    "        acc_test[it] = accuracy(prtest, Y_test)\n",
    "\n",
    "    ## Function outputs 4 things:\n",
    "    ## 1. The learned parameters of the first layer of the neural network, alpha\n",
    "    ## 2. The learned parameters of the second layer of the neural network, beta\n",
    "    ## 3. The accuracy over the training set, acc_train (a \"num_iterations\" dimensional vector).\n",
    "    ## 4. The accuracy over the testing set, acc_test (a \"num_iterations\" dimensional vector).\n",
    "    return alpha,beta,acc_train,acc_test\n"
   ]
  },
  {
   "cell_type": "code",
   "execution_count": 5,
   "metadata": {
    "ExecuteTime": {
     "end_time": "2019-11-24T05:00:30.297793Z",
     "start_time": "2019-11-24T05:00:23.366409Z"
    }
   },
   "outputs": [],
   "source": [
    "X_train, Y_train, X_test, Y_test = prepare_data()\n",
    "alpha,beta,acc_train,acc_test=my_NN(X_train,Y_train,X_test,Y_test,num_hidden=50,num_iterations=1000,learning_rate=1e-2)"
   ]
  },
  {
   "cell_type": "markdown",
   "metadata": {},
   "source": [
    "## Visualizations and Plots\n",
    " \n",
    "Traning and testing accuracies across time"
   ]
  },
  {
   "cell_type": "code",
   "execution_count": 6,
   "metadata": {
    "ExecuteTime": {
     "end_time": "2019-11-24T05:00:30.406364Z",
     "start_time": "2019-11-24T05:00:30.299068Z"
    }
   },
   "outputs": [
    {
     "data": {
      "image/png": "[encoded data removed]",
      "text/plain": [
       "<Figure size 432x288 with 1 Axes>"
      ]
     },
     "metadata": {},
     "output_type": "display_data"
    }
   ],
   "source": [
    "x = range(1000)\n",
    "fig = plt.figure()\n",
    "ax = fig.add_subplot(111)\n",
    "ax.set_ylim(.5,1.01)\n",
    "ax.plot(x, acc_train, color='indianred', linewidth=3)\n",
    "ax.plot(x, acc_test, color='slateblue', linewidth=3)\n",
    "ax.text(1,1.03, 'Training and Testing Accuracy Neural Networks')\n",
    "\n",
    "#Legend patches\n",
    "trainpatch = mpatches.Patch(color='indianred', label='Training Accuracy')\n",
    "testpatch = mpatches.Patch(color='slateblue', label='Testing Accuracy')\n",
    "plt.legend(handles=[trainpatch, testpatch])\n",
    "plt.show()"
   ]
  },
  {
   "cell_type": "markdown",
   "metadata": {},
   "source": [
    "### Visualized mean image from Neural Net Output\n"
   ]
  },
  {
   "cell_type": "code",
   "execution_count": 7,
   "metadata": {
    "ExecuteTime": {
     "end_time": "2019-11-24T05:00:30.555614Z",
     "start_time": "2019-11-24T05:00:30.408109Z"
    }
   },
   "outputs": [
    {
     "data": {
      "image/png": "[encoded data removed]",
      "text/plain": [
       "<Figure size 432x288 with 1 Axes>"
      ]
     },
     "metadata": {},
     "output_type": "display_data"
    }
   ],
   "source": [
    "mean_xtrain_nn = np.mean(X_train*np.repeat(np.dot(alpha[1:, :],beta[1:,:]), 270, axis=0).reshape(64, 270).T, axis=0).reshape(8, 8)\n",
    "plt.imshow(mean_xtrain_nn, cmap=mpl.cm.get_cmap(\"inferno\"))\n",
    "plt.savefig('mean_nn_train.png')\n",
    "plt.show()"
   ]
  },
  {
   "cell_type": "code",
   "execution_count": 8,
   "metadata": {
    "ExecuteTime": {
     "end_time": "2019-11-24T05:00:30.633813Z",
     "start_time": "2019-11-24T05:00:30.557635Z"
    }
   },
   "outputs": [
    {
     "data": {
      "image/png": "[encoded data removed]",
      "text/plain": [
       "<Figure size 432x288 with 1 Axes>"
      ]
     },
     "metadata": {},
     "output_type": "display_data"
    }
   ],
   "source": [
    "# Example single image visualization for comparison\n",
    "mean_xtrain_nn = X_train[20,:].reshape(8, 8)\n",
    "plt.imshow(mean_xtrain_nn, cmap=mpl.cm.get_cmap(\"inferno_r\"))\n",
    "plt.show()"
   ]
  }
 ],
 "metadata": {
  "kernelspec": {
   "display_name": "Python 3",
   "language": "python",
   "name": "python3"
  },
  "language_info": {
   "codemirror_mode": {
    "name": "ipython",
    "version": 3
   },
   "file_extension": ".py",
   "mimetype": "text/x-python",
   "name": "python",
   "nbconvert_exporter": "python",
   "pygments_lexer": "ipython3",
   "version": "3.6.8"
  },
  "toc": {
   "base_numbering": 1,
   "nav_menu": {},
   "number_sections": true,
   "sideBar": true,
   "skip_h1_title": false,
   "title_cell": "Table of Contents",
   "title_sidebar": "Contents",
   "toc_cell": false,
   "toc_position": {},
   "toc_section_display": true,
   "toc_window_display": false
  }
 },
 "nbformat": 4,
 "nbformat_minor": 2
}
