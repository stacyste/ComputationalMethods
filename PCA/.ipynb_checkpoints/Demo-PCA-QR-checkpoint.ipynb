{
 "cells": [
  {
   "cell_type": "markdown",
   "metadata": {},
   "source": [
    "# QR Decomposition for PCA\n",
    "Another method of matrix decomposition that can be used for least squares is QR decomposition. This allows us to bypass computing the matrix cross product of $\\mathbf{X}^T\\mathbf{X}$. We decpmpose $\\mathbf{X}$ into two matrices Q and R where Q is an orthogonal matrix and R is upper triangular"
   ]
  },
  {
   "cell_type": "code",
   "execution_count": 1,
   "metadata": {
    "ExecuteTime": {
     "end_time": "2019-11-24T02:47:04.263225Z",
     "start_time": "2019-11-24T02:47:04.238Z"
    }
   },
   "outputs": [],
   "source": [
    "source('PCA.R')"
   ]
  },
  {
   "cell_type": "markdown",
   "metadata": {},
   "source": [
    "## QR Decomposition by Internal Methods in R"
   ]
  },
  {
   "cell_type": "code",
   "execution_count": 2,
   "metadata": {
    "ExecuteTime": {
     "end_time": "2019-11-24T02:47:04.307505Z",
     "start_time": "2019-11-24T02:47:04.246Z"
    }
   },
   "outputs": [
    {
     "data": {
      "text/html": [
       "<table>\n",
       "<tbody>\n",
       "\t<tr><td>-0.1622214  </td><td> 0.6882472  </td><td>7.071068e-01</td></tr>\n",
       "\t<tr><td>-0.9733285  </td><td>-0.2294157  </td><td>2.220446e-16</td></tr>\n",
       "\t<tr><td> 0.1622214  </td><td>-0.6882472  </td><td>7.071068e-01</td></tr>\n",
       "</tbody>\n",
       "</table>\n"
      ],
      "text/latex": [
       "\\begin{tabular}{lll}\n",
       "\t -0.1622214   &  0.6882472   & 7.071068e-01\\\\\n",
       "\t -0.9733285   & -0.2294157   & 2.220446e-16\\\\\n",
       "\t  0.1622214   & -0.6882472   & 7.071068e-01\\\\\n",
       "\\end{tabular}\n"
      ],
      "text/markdown": [
       "\n",
       "| -0.1622214   |  0.6882472   | 7.071068e-01 | \n",
       "| -0.9733285   | -0.2294157   | 2.220446e-16 | \n",
       "|  0.1622214   | -0.6882472   | 7.071068e-01 | \n",
       "\n",
       "\n"
      ],
      "text/plain": [
       "     [,1]       [,2]       [,3]        \n",
       "[1,] -0.1622214  0.6882472 7.071068e-01\n",
       "[2,] -0.9733285 -0.2294157 2.220446e-16\n",
       "[3,]  0.1622214 -0.6882472 7.071068e-01"
      ]
     },
     "metadata": {},
     "output_type": "display_data"
    },
    {
     "data": {
      "text/html": [
       "<table>\n",
       "<tbody>\n",
       "\t<tr><td>-6.164414 </td><td>0.3244428 </td><td>-2.7577642</td></tr>\n",
       "\t<tr><td> 0.000000 </td><td>2.9824045 </td><td> 7.3413035</td></tr>\n",
       "\t<tr><td> 0.000000 </td><td>0.0000000 </td><td> 0.7071068</td></tr>\n",
       "</tbody>\n",
       "</table>\n"
      ],
      "text/latex": [
       "\\begin{tabular}{lll}\n",
       "\t -6.164414  & 0.3244428  & -2.7577642\\\\\n",
       "\t  0.000000  & 2.9824045  &  7.3413035\\\\\n",
       "\t  0.000000  & 0.0000000  &  0.7071068\\\\\n",
       "\\end{tabular}\n"
      ],
      "text/markdown": [
       "\n",
       "| -6.164414  | 0.3244428  | -2.7577642 | \n",
       "|  0.000000  | 2.9824045  |  7.3413035 | \n",
       "|  0.000000  | 0.0000000  |  0.7071068 | \n",
       "\n",
       "\n"
      ],
      "text/plain": [
       "     [,1]      [,2]      [,3]      \n",
       "[1,] -6.164414 0.3244428 -2.7577642\n",
       "[2,]  0.000000 2.9824045  7.3413035\n",
       "[3,]  0.000000 0.0000000  0.7071068"
      ]
     },
     "metadata": {},
     "output_type": "display_data"
    }
   ],
   "source": [
    "B = matrix(c(1, 6, -1, 2, -1, -2, 6, 1, -5), nrow = 3, ncol = 3)\n",
    "qr.Q(qr(B)) #Q\n",
    "qr.R(qr(B)) #R - upper triangular"
   ]
  },
  {
   "cell_type": "markdown",
   "metadata": {},
   "source": [
    "## QR Decomposition by Written Code"
   ]
  },
  {
   "cell_type": "code",
   "execution_count": 3,
   "metadata": {
    "ExecuteTime": {
     "end_time": "2019-11-24T02:47:04.335632Z",
     "start_time": "2019-11-24T02:47:04.251Z"
    },
    "scrolled": true
   },
   "outputs": [
    {
     "data": {
      "text/html": [
       "<dl>\n",
       "\t<dt>$Q</dt>\n",
       "\t\t<dd><table>\n",
       "<tbody>\n",
       "\t<tr><td>-0.1622214  </td><td> 0.6882472  </td><td>7.071068e-01</td></tr>\n",
       "\t<tr><td>-0.9733285  </td><td>-0.2294157  </td><td>1.665335e-16</td></tr>\n",
       "\t<tr><td> 0.1622214  </td><td>-0.6882472  </td><td>7.071068e-01</td></tr>\n",
       "</tbody>\n",
       "</table>\n",
       "</dd>\n",
       "\t<dt>$R</dt>\n",
       "\t\t<dd><table>\n",
       "<tbody>\n",
       "\t<tr><td>-6.164414e+00</td><td> 3.244428e-01</td><td>-2.7577642   </td></tr>\n",
       "\t<tr><td> 1.299904e-15</td><td> 2.982405e+00</td><td> 7.3413035   </td></tr>\n",
       "\t<tr><td> 1.230852e-15</td><td>-2.220446e-16</td><td> 0.7071068   </td></tr>\n",
       "</tbody>\n",
       "</table>\n",
       "</dd>\n",
       "</dl>\n"
      ],
      "text/latex": [
       "\\begin{description}\n",
       "\\item[\\$Q] \\begin{tabular}{lll}\n",
       "\t -0.1622214   &  0.6882472   & 7.071068e-01\\\\\n",
       "\t -0.9733285   & -0.2294157   & 1.665335e-16\\\\\n",
       "\t  0.1622214   & -0.6882472   & 7.071068e-01\\\\\n",
       "\\end{tabular}\n",
       "\n",
       "\\item[\\$R] \\begin{tabular}{lll}\n",
       "\t -6.164414e+00 &  3.244428e-01 & -2.7577642   \\\\\n",
       "\t  1.299904e-15 &  2.982405e+00 &  7.3413035   \\\\\n",
       "\t  1.230852e-15 & -2.220446e-16 &  0.7071068   \\\\\n",
       "\\end{tabular}\n",
       "\n",
       "\\end{description}\n"
      ],
      "text/markdown": [
       "$Q\n",
       ":   \n",
       "| -0.1622214   |  0.6882472   | 7.071068e-01 | \n",
       "| -0.9733285   | -0.2294157   | 1.665335e-16 | \n",
       "|  0.1622214   | -0.6882472   | 7.071068e-01 | \n",
       "\n",
       "\n",
       "\n",
       "$R\n",
       ":   \n",
       "| -6.164414e+00 |  3.244428e-01 | -2.7577642    | \n",
       "|  1.299904e-15 |  2.982405e+00 |  7.3413035    | \n",
       "|  1.230852e-15 | -2.220446e-16 |  0.7071068    | \n",
       "\n",
       "\n",
       "\n",
       "\n",
       "\n"
      ],
      "text/plain": [
       "$Q\n",
       "           [,1]       [,2]         [,3]\n",
       "[1,] -0.1622214  0.6882472 7.071068e-01\n",
       "[2,] -0.9733285 -0.2294157 1.665335e-16\n",
       "[3,]  0.1622214 -0.6882472 7.071068e-01\n",
       "\n",
       "$R\n",
       "              [,1]          [,2]       [,3]\n",
       "[1,] -6.164414e+00  3.244428e-01 -2.7577642\n",
       "[2,]  1.299904e-15  2.982405e+00  7.3413035\n",
       "[3,]  1.230852e-15 -2.220446e-16  0.7071068\n"
      ]
     },
     "metadata": {},
     "output_type": "display_data"
    }
   ],
   "source": [
    "myQR(B)"
   ]
  },
  {
   "cell_type": "markdown",
   "metadata": {},
   "source": [
    "## QR for Linear Regression\n",
    "We perform QR decomposition to the matrix $(\\mathbf{X}\\mathbf{Y})$.\n",
    "\n",
    "$$ \\begin{bmatrix} \\mathbf{X} & \\mathbf{Y} \\end{bmatrix}\n",
    "\\xrightarrow[]{Q^T}\n",
    "\\begin{bmatrix} R & \\mathbf{Y}^* \\end{bmatrix}\n",
    "=\n",
    "\\begin{bmatrix}\n",
    "    R_1 & \\mathbf{Y}_1^*\\\\\n",
    "    0 & \\mathbf{Y}_2^*\\\\\n",
    "\\end{bmatrix}$$\n",
    "\n",
    "Where $R_1$is an upper triangular square matrix.\n",
    "\n",
    "Solving the least squares problem is equivalent to solving:\n",
    "$$ \\min_{\\beta}||\\mathbf{Y}^* -R\\beta ||^2= \\min_{\\beta}(||\\mathbf{Y}_1^* -R_1\\beta ||^2 +|| \\mathbf{Y}_2^*||^2)$$\n",
    "\n",
    "The solution to $\\widehat{\\beta} = R_1^{-1}\\mathbf{Y}_1^*$"
   ]
  },
  {
   "cell_type": "code",
   "execution_count": 4,
   "metadata": {
    "ExecuteTime": {
     "end_time": "2019-11-24T02:47:04.344467Z",
     "start_time": "2019-11-24T02:47:04.254Z"
    }
   },
   "outputs": [],
   "source": [
    "# Testing function comparing base R functions for regression\n",
    "# to the functions created for QR decomposition and regression\n",
    "# implemented here by hand\n",
    "\n",
    "testing_Linear_Regression <- function(){\n",
    "  ## Define parameters\n",
    "  n    <- 100\n",
    "  p    <- 3\n",
    "\n",
    "  ## Simulate data from our assumed model.\n",
    "  ## We can assume that the true intercept is 0\n",
    "  X    <- matrix(rnorm(100 * 3), nrow = 100)\n",
    "  beta <- matrix(1:3, nrow = 3)\n",
    "  Y    <- X %*% beta + rnorm(100)\n",
    "\n",
    "  ## Save R's linear regression coefficients\n",
    "  R_coef  <- coef(lm(Y ~ X))\n",
    "\n",
    "  ## Save our linear regression coefficients\n",
    "  \n",
    "  my_coef <- myLM(X, Y)\n",
    "\n",
    "  ## Are these two vectors different?\n",
    "  sum_square_diff <- sum((R_coef - my_coef)^2)\n",
    "  if(sum_square_diff <= 0.001){\n",
    "    return('Both results are identical')\n",
    "  }else{\n",
    "    return('There seems to be a problem...')\n",
    "  }\n",
    "}"
   ]
  },
  {
   "cell_type": "code",
   "execution_count": 5,
   "metadata": {
    "ExecuteTime": {
     "end_time": "2019-11-24T02:47:04.376446Z",
     "start_time": "2019-11-24T02:47:04.258Z"
    },
    "scrolled": true
   },
   "outputs": [
    {
     "data": {
      "text/html": [
       "'Both results are identical'"
      ],
      "text/latex": [
       "'Both results are identical'"
      ],
      "text/markdown": [
       "'Both results are identical'"
      ],
      "text/plain": [
       "[1] \"Both results are identical\""
      ]
     },
     "metadata": {},
     "output_type": "display_data"
    }
   ],
   "source": [
    "testing_Linear_Regression()"
   ]
  },
  {
   "cell_type": "markdown",
   "metadata": {},
   "source": [
    "## Eigen Decomposition with QR and PCA\n",
    "Another decomposition is the eigen decomposition. A symmetric matrix $\\Sigma$ can be diagonalized as $\\Sigma  = Q\\Lambda Q^T$ where $Q$ is orthognal and $\\Lambda$ is diagonal with the ordered (decending) eigenvalues along the diagonal.\n",
    "\n",
    "The power method is used here to extract the eigenvalues and eigenvectors\n",
    "\n",
    "These can then be used for principle component analysis where if we originally had a data matrix $X$ of dimension $n \\times p$, we choose a $d <p$ representing the number of principle components (dimensions) we wish to keep in our data. We use the reduced eigenvectors to transform the original data to a new basis"
   ]
  },
  {
   "cell_type": "code",
   "execution_count": 6,
   "metadata": {
    "ExecuteTime": {
     "end_time": "2019-11-24T02:47:04.419140Z",
     "start_time": "2019-11-24T02:47:04.263Z"
    }
   },
   "outputs": [
    {
     "data": {
      "text/html": [
       "<dl>\n",
       "\t<dt>$D</dt>\n",
       "\t\t<dd><ol class=list-inline>\n",
       "\t<li>-6.15540229534979</li>\n",
       "\t<li>-3.1623714084874</li>\n",
       "\t<li>4.31777370383717</li>\n",
       "</ol>\n",
       "</dd>\n",
       "\t<dt>$V</dt>\n",
       "\t\t<dd><table>\n",
       "<tbody>\n",
       "\t<tr><td> 0.6047889</td><td> 0.1083230</td><td>-0.7889845</td></tr>\n",
       "\t<tr><td>-0.6029533</td><td>-0.5849319</td><td>-0.5424962</td></tr>\n",
       "\t<tr><td>-0.5202669</td><td> 0.8038164</td><td>-0.2884466</td></tr>\n",
       "</tbody>\n",
       "</table>\n",
       "</dd>\n",
       "</dl>\n"
      ],
      "text/latex": [
       "\\begin{description}\n",
       "\\item[\\$D] \\begin{enumerate*}\n",
       "\\item -6.15540229534979\n",
       "\\item -3.1623714084874\n",
       "\\item 4.31777370383717\n",
       "\\end{enumerate*}\n",
       "\n",
       "\\item[\\$V] \\begin{tabular}{lll}\n",
       "\t  0.6047889 &  0.1083230 & -0.7889845\\\\\n",
       "\t -0.6029533 & -0.5849319 & -0.5424962\\\\\n",
       "\t -0.5202669 &  0.8038164 & -0.2884466\\\\\n",
       "\\end{tabular}\n",
       "\n",
       "\\end{description}\n"
      ],
      "text/markdown": [
       "$D\n",
       ":   1. -6.15540229534979\n",
       "2. -3.1623714084874\n",
       "3. 4.31777370383717\n",
       "\n",
       "\n",
       "\n",
       "$V\n",
       ":   \n",
       "|  0.6047889 |  0.1083230 | -0.7889845 | \n",
       "| -0.6029533 | -0.5849319 | -0.5424962 | \n",
       "| -0.5202669 |  0.8038164 | -0.2884466 | \n",
       "\n",
       "\n",
       "\n",
       "\n",
       "\n"
      ],
      "text/plain": [
       "$D\n",
       "[1] -6.155402 -3.162371  4.317774\n",
       "\n",
       "$V\n",
       "           [,1]       [,2]       [,3]\n",
       "[1,]  0.6047889  0.1083230 -0.7889845\n",
       "[2,] -0.6029533 -0.5849319 -0.5424962\n",
       "[3,] -0.5202669  0.8038164 -0.2884466\n"
      ]
     },
     "metadata": {},
     "output_type": "display_data"
    }
   ],
   "source": [
    "myEigen_QR(B)"
   ]
  }
 ],
 "metadata": {
  "kernelspec": {
   "display_name": "R",
   "language": "R",
   "name": "ir"
  },
  "language_info": {
   "codemirror_mode": "r",
   "file_extension": ".r",
   "mimetype": "text/x-r-source",
   "name": "R",
   "pygments_lexer": "r",
   "version": "3.5.1"
  },
  "toc": {
   "base_numbering": 1,
   "nav_menu": {},
   "number_sections": true,
   "sideBar": true,
   "skip_h1_title": false,
   "title_cell": "Table of Contents",
   "title_sidebar": "Contents",
   "toc_cell": false,
   "toc_position": {},
   "toc_section_display": true,
   "toc_window_display": false
  }
 },
 "nbformat": 4,
 "nbformat_minor": 2
}
