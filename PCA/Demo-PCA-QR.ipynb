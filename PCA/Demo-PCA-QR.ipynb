{
 "cells": [
  {
   "cell_type": "markdown",
   "metadata": {},
   "source": [
    "# QR Decomposition for PCA\n",
    "Another method of matrix decomposition that can be used for least squares is QR decomposition. This allows us to bypass computing the matrix cross product of $\\mathbf{X}^T\\mathbf{X}$. We decpmpose $\\mathbf{X}$ into two matrices Q and R where Q is an orthogonal matrix and R is upper triangular"
   ]
  },
  {
   "cell_type": "code",
   "execution_count": 1,
   "metadata": {
    "ExecuteTime": {
     "end_time": "2019-11-24T01:46:48.575161Z",
     "start_time": "2019-11-24T01:46:48.515Z"
    }
   },
   "outputs": [],
   "source": [
    "source('PCA.R')"
   ]
  },
  {
   "cell_type": "code",
   "execution_count": 11,
   "metadata": {
    "ExecuteTime": {
     "end_time": "2019-11-24T01:50:43.598096Z",
     "start_time": "2019-11-24T01:50:43.568Z"
    }
   },
   "outputs": [
    {
     "data": {
      "text/html": [
       "<table>\n",
       "<tbody>\n",
       "\t<tr><td>-0.1622214  </td><td> 0.6882472  </td><td>7.071068e-01</td></tr>\n",
       "\t<tr><td>-0.9733285  </td><td>-0.2294157  </td><td>2.220446e-16</td></tr>\n",
       "\t<tr><td> 0.1622214  </td><td>-0.6882472  </td><td>7.071068e-01</td></tr>\n",
       "</tbody>\n",
       "</table>\n"
      ],
      "text/latex": [
       "\\begin{tabular}{lll}\n",
       "\t -0.1622214   &  0.6882472   & 7.071068e-01\\\\\n",
       "\t -0.9733285   & -0.2294157   & 2.220446e-16\\\\\n",
       "\t  0.1622214   & -0.6882472   & 7.071068e-01\\\\\n",
       "\\end{tabular}\n"
      ],
      "text/markdown": [
       "\n",
       "| -0.1622214   |  0.6882472   | 7.071068e-01 | \n",
       "| -0.9733285   | -0.2294157   | 2.220446e-16 | \n",
       "|  0.1622214   | -0.6882472   | 7.071068e-01 | \n",
       "\n",
       "\n"
      ],
      "text/plain": [
       "     [,1]       [,2]       [,3]        \n",
       "[1,] -0.1622214  0.6882472 7.071068e-01\n",
       "[2,] -0.9733285 -0.2294157 2.220446e-16\n",
       "[3,]  0.1622214 -0.6882472 7.071068e-01"
      ]
     },
     "metadata": {},
     "output_type": "display_data"
    },
    {
     "data": {
      "text/html": [
       "<table>\n",
       "<tbody>\n",
       "\t<tr><td>-6.164414 </td><td>0.3244428 </td><td>-2.7577642</td></tr>\n",
       "\t<tr><td> 0.000000 </td><td>2.9824045 </td><td> 7.3413035</td></tr>\n",
       "\t<tr><td> 0.000000 </td><td>0.0000000 </td><td> 0.7071068</td></tr>\n",
       "</tbody>\n",
       "</table>\n"
      ],
      "text/latex": [
       "\\begin{tabular}{lll}\n",
       "\t -6.164414  & 0.3244428  & -2.7577642\\\\\n",
       "\t  0.000000  & 2.9824045  &  7.3413035\\\\\n",
       "\t  0.000000  & 0.0000000  &  0.7071068\\\\\n",
       "\\end{tabular}\n"
      ],
      "text/markdown": [
       "\n",
       "| -6.164414  | 0.3244428  | -2.7577642 | \n",
       "|  0.000000  | 2.9824045  |  7.3413035 | \n",
       "|  0.000000  | 0.0000000  |  0.7071068 | \n",
       "\n",
       "\n"
      ],
      "text/plain": [
       "     [,1]      [,2]      [,3]      \n",
       "[1,] -6.164414 0.3244428 -2.7577642\n",
       "[2,]  0.000000 2.9824045  7.3413035\n",
       "[3,]  0.000000 0.0000000  0.7071068"
      ]
     },
     "metadata": {},
     "output_type": "display_data"
    },
    {
     "data": {
      "text/html": [
       "<table>\n",
       "<tbody>\n",
       "\t<tr><td>-5</td><td>-1</td><td>8 </td></tr>\n",
       "\t<tr><td> 1</td><td> 3</td><td>3 </td></tr>\n",
       "\t<tr><td>-1</td><td>-1</td><td>5 </td></tr>\n",
       "\t<tr><td> 1</td><td> 3</td><td>7 </td></tr>\n",
       "</tbody>\n",
       "</table>\n"
      ],
      "text/latex": [
       "\\begin{tabular}{lll}\n",
       "\t -5 & -1 & 8 \\\\\n",
       "\t  1 &  3 & 3 \\\\\n",
       "\t -1 & -1 & 5 \\\\\n",
       "\t  1 &  3 & 7 \\\\\n",
       "\\end{tabular}\n"
      ],
      "text/markdown": [
       "\n",
       "| -5 | -1 | 8  | \n",
       "|  1 |  3 | 3  | \n",
       "| -1 | -1 | 5  | \n",
       "|  1 |  3 | 7  | \n",
       "\n",
       "\n"
      ],
      "text/plain": [
       "     [,1] [,2] [,3]\n",
       "[1,] -5   -1   8   \n",
       "[2,]  1    3   3   \n",
       "[3,] -1   -1   5   \n",
       "[4,]  1    3   7   "
      ]
     },
     "metadata": {},
     "output_type": "display_data"
    },
    {
     "data": {
      "text/html": [
       "<table>\n",
       "<tbody>\n",
       "\t<tr><td> 0.99551821</td><td> 0.04593838</td><td> 0.03137255</td><td>-0.03697479</td></tr>\n",
       "\t<tr><td> 0.04593838</td><td> 0.52913165</td><td>-0.32156863</td><td> 0.37899160</td></tr>\n",
       "\t<tr><td> 0.03137255</td><td>-0.32156863</td><td> 0.78039216</td><td> 0.25882353</td></tr>\n",
       "\t<tr><td>-0.03697479</td><td> 0.37899160</td><td> 0.25882353</td><td> 0.69495798</td></tr>\n",
       "</tbody>\n",
       "</table>\n"
      ],
      "text/latex": [
       "\\begin{tabular}{llll}\n",
       "\t  0.99551821 &  0.04593838 &  0.03137255 & -0.03697479\\\\\n",
       "\t  0.04593838 &  0.52913165 & -0.32156863 &  0.37899160\\\\\n",
       "\t  0.03137255 & -0.32156863 &  0.78039216 &  0.25882353\\\\\n",
       "\t -0.03697479 &  0.37899160 &  0.25882353 &  0.69495798\\\\\n",
       "\\end{tabular}\n"
      ],
      "text/markdown": [
       "\n",
       "|  0.99551821 |  0.04593838 |  0.03137255 | -0.03697479 | \n",
       "|  0.04593838 |  0.52913165 | -0.32156863 |  0.37899160 | \n",
       "|  0.03137255 | -0.32156863 |  0.78039216 |  0.25882353 | \n",
       "| -0.03697479 |  0.37899160 |  0.25882353 |  0.69495798 | \n",
       "\n",
       "\n"
      ],
      "text/plain": [
       "     [,1]        [,2]        [,3]        [,4]       \n",
       "[1,]  0.99551821  0.04593838  0.03137255 -0.03697479\n",
       "[2,]  0.04593838  0.52913165 -0.32156863  0.37899160\n",
       "[3,]  0.03137255 -0.32156863  0.78039216  0.25882353\n",
       "[4,] -0.03697479  0.37899160  0.25882353  0.69495798"
      ]
     },
     "metadata": {},
     "output_type": "display_data"
    }
   ],
   "source": [
    "set.seed(110)\n",
    "A <- matrix( sample(1:30,16), ncol=4)\n",
    "A <- A + t(A)\n",
    "\n",
    "B = matrix(c(1, 6, -1, 2, -1, -2, 6, 1, -5), nrow = 3, ncol = 3)\n",
    "A = matrix(c(-5, 1,-1 , 1, -1, 3, -1, 3, 8, 3, 5, 7), nrow = 4, ncol = 3)\n",
    "qr.Q(qr(B))\n",
    "qr.R(qr(B)) #upper triangular\n",
    "\n",
    "qr.Q(qr(A))%*%qr.R(qr(A)) #original A\n",
    "qr.Q(qr(A))%*%t(qr.Q(qr(A))) #identity"
   ]
  },
  {
   "cell_type": "markdown",
   "metadata": {},
   "source": [
    "## QR Decomposition by Internal Methods in R"
   ]
  },
  {
   "cell_type": "code",
   "execution_count": 12,
   "metadata": {
    "ExecuteTime": {
     "end_time": "2019-11-24T01:55:12.311873Z",
     "start_time": "2019-11-24T01:55:12.293Z"
    }
   },
   "outputs": [
    {
     "data": {
      "text/html": [
       "<table>\n",
       "<tbody>\n",
       "\t<tr><td>-0.1622214  </td><td> 0.6882472  </td><td>7.071068e-01</td></tr>\n",
       "\t<tr><td>-0.9733285  </td><td>-0.2294157  </td><td>2.220446e-16</td></tr>\n",
       "\t<tr><td> 0.1622214  </td><td>-0.6882472  </td><td>7.071068e-01</td></tr>\n",
       "</tbody>\n",
       "</table>\n"
      ],
      "text/latex": [
       "\\begin{tabular}{lll}\n",
       "\t -0.1622214   &  0.6882472   & 7.071068e-01\\\\\n",
       "\t -0.9733285   & -0.2294157   & 2.220446e-16\\\\\n",
       "\t  0.1622214   & -0.6882472   & 7.071068e-01\\\\\n",
       "\\end{tabular}\n"
      ],
      "text/markdown": [
       "\n",
       "| -0.1622214   |  0.6882472   | 7.071068e-01 | \n",
       "| -0.9733285   | -0.2294157   | 2.220446e-16 | \n",
       "|  0.1622214   | -0.6882472   | 7.071068e-01 | \n",
       "\n",
       "\n"
      ],
      "text/plain": [
       "     [,1]       [,2]       [,3]        \n",
       "[1,] -0.1622214  0.6882472 7.071068e-01\n",
       "[2,] -0.9733285 -0.2294157 2.220446e-16\n",
       "[3,]  0.1622214 -0.6882472 7.071068e-01"
      ]
     },
     "metadata": {},
     "output_type": "display_data"
    },
    {
     "data": {
      "text/html": [
       "<table>\n",
       "<tbody>\n",
       "\t<tr><td>-6.164414 </td><td>0.3244428 </td><td>-2.7577642</td></tr>\n",
       "\t<tr><td> 0.000000 </td><td>2.9824045 </td><td> 7.3413035</td></tr>\n",
       "\t<tr><td> 0.000000 </td><td>0.0000000 </td><td> 0.7071068</td></tr>\n",
       "</tbody>\n",
       "</table>\n"
      ],
      "text/latex": [
       "\\begin{tabular}{lll}\n",
       "\t -6.164414  & 0.3244428  & -2.7577642\\\\\n",
       "\t  0.000000  & 2.9824045  &  7.3413035\\\\\n",
       "\t  0.000000  & 0.0000000  &  0.7071068\\\\\n",
       "\\end{tabular}\n"
      ],
      "text/markdown": [
       "\n",
       "| -6.164414  | 0.3244428  | -2.7577642 | \n",
       "|  0.000000  | 2.9824045  |  7.3413035 | \n",
       "|  0.000000  | 0.0000000  |  0.7071068 | \n",
       "\n",
       "\n"
      ],
      "text/plain": [
       "     [,1]      [,2]      [,3]      \n",
       "[1,] -6.164414 0.3244428 -2.7577642\n",
       "[2,]  0.000000 2.9824045  7.3413035\n",
       "[3,]  0.000000 0.0000000  0.7071068"
      ]
     },
     "metadata": {},
     "output_type": "display_data"
    }
   ],
   "source": [
    "B = matrix(c(1, 6, -1, 2, -1, -2, 6, 1, -5), nrow = 3, ncol = 3)\n",
    "qr.Q(qr(B)) #Q\n",
    "qr.R(qr(B)) #R - upper triangular"
   ]
  },
  {
   "cell_type": "markdown",
   "metadata": {},
   "source": [
    "## QR Decomposition by Written Code"
   ]
  },
  {
   "cell_type": "code",
   "execution_count": 9,
   "metadata": {
    "ExecuteTime": {
     "end_time": "2019-11-24T01:50:24.147007Z",
     "start_time": "2019-11-24T01:50:24.111Z"
    },
    "scrolled": true
   },
   "outputs": [
    {
     "data": {
      "text/html": [
       "<dl>\n",
       "\t<dt>$Q</dt>\n",
       "\t\t<dd><table>\n",
       "<tbody>\n",
       "\t<tr><td>-0.1622214  </td><td> 0.6882472  </td><td>7.071068e-01</td></tr>\n",
       "\t<tr><td>-0.9733285  </td><td>-0.2294157  </td><td>1.665335e-16</td></tr>\n",
       "\t<tr><td> 0.1622214  </td><td>-0.6882472  </td><td>7.071068e-01</td></tr>\n",
       "</tbody>\n",
       "</table>\n",
       "</dd>\n",
       "\t<dt>$R</dt>\n",
       "\t\t<dd><table>\n",
       "<tbody>\n",
       "\t<tr><td>-6.164414e+00</td><td> 3.244428e-01</td><td>-2.7577642   </td></tr>\n",
       "\t<tr><td> 1.299904e-15</td><td> 2.982405e+00</td><td> 7.3413035   </td></tr>\n",
       "\t<tr><td> 1.230852e-15</td><td>-2.220446e-16</td><td> 0.7071068   </td></tr>\n",
       "</tbody>\n",
       "</table>\n",
       "</dd>\n",
       "</dl>\n"
      ],
      "text/latex": [
       "\\begin{description}\n",
       "\\item[\\$Q] \\begin{tabular}{lll}\n",
       "\t -0.1622214   &  0.6882472   & 7.071068e-01\\\\\n",
       "\t -0.9733285   & -0.2294157   & 1.665335e-16\\\\\n",
       "\t  0.1622214   & -0.6882472   & 7.071068e-01\\\\\n",
       "\\end{tabular}\n",
       "\n",
       "\\item[\\$R] \\begin{tabular}{lll}\n",
       "\t -6.164414e+00 &  3.244428e-01 & -2.7577642   \\\\\n",
       "\t  1.299904e-15 &  2.982405e+00 &  7.3413035   \\\\\n",
       "\t  1.230852e-15 & -2.220446e-16 &  0.7071068   \\\\\n",
       "\\end{tabular}\n",
       "\n",
       "\\end{description}\n"
      ],
      "text/markdown": [
       "$Q\n",
       ":   \n",
       "| -0.1622214   |  0.6882472   | 7.071068e-01 | \n",
       "| -0.9733285   | -0.2294157   | 1.665335e-16 | \n",
       "|  0.1622214   | -0.6882472   | 7.071068e-01 | \n",
       "\n",
       "\n",
       "\n",
       "$R\n",
       ":   \n",
       "| -6.164414e+00 |  3.244428e-01 | -2.7577642    | \n",
       "|  1.299904e-15 |  2.982405e+00 |  7.3413035    | \n",
       "|  1.230852e-15 | -2.220446e-16 |  0.7071068    | \n",
       "\n",
       "\n",
       "\n",
       "\n",
       "\n"
      ],
      "text/plain": [
       "$Q\n",
       "           [,1]       [,2]         [,3]\n",
       "[1,] -0.1622214  0.6882472 7.071068e-01\n",
       "[2,] -0.9733285 -0.2294157 1.665335e-16\n",
       "[3,]  0.1622214 -0.6882472 7.071068e-01\n",
       "\n",
       "$R\n",
       "              [,1]          [,2]       [,3]\n",
       "[1,] -6.164414e+00  3.244428e-01 -2.7577642\n",
       "[2,]  1.299904e-15  2.982405e+00  7.3413035\n",
       "[3,]  1.230852e-15 -2.220446e-16  0.7071068\n"
      ]
     },
     "metadata": {},
     "output_type": "display_data"
    }
   ],
   "source": [
    "myQR(B)"
   ]
  },
  {
   "cell_type": "code",
   "execution_count": null,
   "metadata": {},
   "outputs": [],
   "source": [
    "## QR for Linear Regression\n"
   ]
  },
  {
   "cell_type": "code",
   "execution_count": 2,
   "metadata": {
    "ExecuteTime": {
     "end_time": "2019-11-24T01:47:51.887266Z",
     "start_time": "2019-11-24T01:47:51.839Z"
    }
   },
   "outputs": [],
   "source": [
    "testing_Linear_Regression <- function(){\n",
    "  ## Define parameters\n",
    "  n    <- 100\n",
    "  p    <- 3\n",
    "\n",
    "  ## Simulate data from our assumed model.\n",
    "  ## We can assume that the true intercept is 0\n",
    "  X    <- matrix(rnorm(100 * 3), nrow = 100)\n",
    "  beta <- matrix(1:3, nrow = 3)\n",
    "  Y    <- X %*% beta + rnorm(100)\n",
    "\n",
    "  ## Save R's linear regression coefficients\n",
    "  R_coef  <- coef(lm(Y ~ X))\n",
    "\n",
    "  ## Save our linear regression coefficients\n",
    "  \n",
    "  my_coef <- myLM(X, Y)\n",
    "\n",
    "  ## Are these two vectors different?\n",
    "  sum_square_diff <- sum((R_coef - my_coef)^2)\n",
    "  if(sum_square_diff <= 0.001){\n",
    "    return('Both results are identical')\n",
    "  }else{\n",
    "    return('There seems to be a problem...')\n",
    "  }\n",
    "}"
   ]
  },
  {
   "cell_type": "code",
   "execution_count": 3,
   "metadata": {
    "ExecuteTime": {
     "end_time": "2019-11-24T01:48:02.139673Z",
     "start_time": "2019-11-24T01:48:02.071Z"
    },
    "scrolled": true
   },
   "outputs": [
    {
     "data": {
      "text/html": [
       "'Both results are identical'"
      ],
      "text/latex": [
       "'Both results are identical'"
      ],
      "text/markdown": [
       "'Both results are identical'"
      ],
      "text/plain": [
       "[1] \"Both results are identical\""
      ]
     },
     "metadata": {},
     "output_type": "display_data"
    }
   ],
   "source": [
    "testing_Linear_Regression()"
   ]
  },
  {
   "cell_type": "code",
   "execution_count": null,
   "metadata": {},
   "outputs": [],
   "source": [
    "## Eigen Decomposition with QR"
   ]
  },
  {
   "cell_type": "code",
   "execution_count": 10,
   "metadata": {
    "ExecuteTime": {
     "end_time": "2019-11-24T01:50:31.617663Z",
     "start_time": "2019-11-24T01:50:31.573Z"
    }
   },
   "outputs": [
    {
     "data": {
      "text/html": [
       "<dl>\n",
       "\t<dt>$D</dt>\n",
       "\t\t<dd><ol class=list-inline>\n",
       "\t<li>-6.15540229534979</li>\n",
       "\t<li>-3.1623714084874</li>\n",
       "\t<li>4.31777370383717</li>\n",
       "</ol>\n",
       "</dd>\n",
       "\t<dt>$V</dt>\n",
       "\t\t<dd><table>\n",
       "<tbody>\n",
       "\t<tr><td> 0.6047889</td><td> 0.1083230</td><td>-0.7889845</td></tr>\n",
       "\t<tr><td>-0.6029533</td><td>-0.5849319</td><td>-0.5424962</td></tr>\n",
       "\t<tr><td>-0.5202669</td><td> 0.8038164</td><td>-0.2884466</td></tr>\n",
       "</tbody>\n",
       "</table>\n",
       "</dd>\n",
       "</dl>\n"
      ],
      "text/latex": [
       "\\begin{description}\n",
       "\\item[\\$D] \\begin{enumerate*}\n",
       "\\item -6.15540229534979\n",
       "\\item -3.1623714084874\n",
       "\\item 4.31777370383717\n",
       "\\end{enumerate*}\n",
       "\n",
       "\\item[\\$V] \\begin{tabular}{lll}\n",
       "\t  0.6047889 &  0.1083230 & -0.7889845\\\\\n",
       "\t -0.6029533 & -0.5849319 & -0.5424962\\\\\n",
       "\t -0.5202669 &  0.8038164 & -0.2884466\\\\\n",
       "\\end{tabular}\n",
       "\n",
       "\\end{description}\n"
      ],
      "text/markdown": [
       "$D\n",
       ":   1. -6.15540229534979\n",
       "2. -3.1623714084874\n",
       "3. 4.31777370383717\n",
       "\n",
       "\n",
       "\n",
       "$V\n",
       ":   \n",
       "|  0.6047889 |  0.1083230 | -0.7889845 | \n",
       "| -0.6029533 | -0.5849319 | -0.5424962 | \n",
       "| -0.5202669 |  0.8038164 | -0.2884466 | \n",
       "\n",
       "\n",
       "\n",
       "\n",
       "\n"
      ],
      "text/plain": [
       "$D\n",
       "[1] -6.155402 -3.162371  4.317774\n",
       "\n",
       "$V\n",
       "           [,1]       [,2]       [,3]\n",
       "[1,]  0.6047889  0.1083230 -0.7889845\n",
       "[2,] -0.6029533 -0.5849319 -0.5424962\n",
       "[3,] -0.5202669  0.8038164 -0.2884466\n"
      ]
     },
     "metadata": {},
     "output_type": "display_data"
    }
   ],
   "source": [
    "myEigen_QR(B)"
   ]
  }
 ],
 "metadata": {
  "kernelspec": {
   "display_name": "R",
   "language": "R",
   "name": "ir"
  },
  "language_info": {
   "codemirror_mode": "r",
   "file_extension": ".r",
   "mimetype": "text/x-r-source",
   "name": "R",
   "pygments_lexer": "r",
   "version": "3.5.1"
  },
  "toc": {
   "base_numbering": 1,
   "nav_menu": {},
   "number_sections": true,
   "sideBar": true,
   "skip_h1_title": false,
   "title_cell": "Table of Contents",
   "title_sidebar": "Contents",
   "toc_cell": false,
   "toc_position": {},
   "toc_section_display": true,
   "toc_window_display": false
  }
 },
 "nbformat": 4,
 "nbformat_minor": 2
}
